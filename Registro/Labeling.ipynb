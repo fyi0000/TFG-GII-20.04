{
 "cells": [
  {
   "cell_type": "code",
   "execution_count": 1,
   "metadata": {},
   "outputs": [],
   "source": [
    "import sys\n",
    "import os\n",
    "sys.path.append('./pycococreator-0.2.0/pycococreatortools')\n",
    "from pycococreatortools import *\n",
    "from PIL import Image\n",
    "import numpy as np\n",
    "from numpy import asarray\n",
    "import PIL.ImageOps  \n",
    "from skimage import data\n",
    "import matplotlib.pyplot as plt\n",
    "from skimage.measure import label, regionprops\n",
    "from skimage.color import label2rgb"
   ]
  },
  {
   "cell_type": "code",
   "execution_count": 212,
   "metadata": {},
   "outputs": [
    {
     "name": "stdout",
     "output_type": "stream",
     "text": [
      "<class 'numpy.ndarray'>\n",
      "(570, 736)\n",
      "<class 'PIL.Image.Image'>\n",
      "I\n",
      "(736, 570)\n"
     ]
    }
   ],
   "source": [
    "#nombre = './IMG/Welding/P0001/masks/P0001_0010_0.png' \n",
    "nombre = './IMG/Welding/J0001/masks/J0001_0009_0.png'\n",
    "image = Image.open(nombre)\n",
    "# convert image to numpy array\n",
    "data = asarray(image.convert(\"L\"))\n",
    "data = np.where(data > 128, 255, 0)\n",
    "print(type(data))\n",
    "# summarize shape\n",
    "print(data.shape)\n",
    "\n",
    "# create Pillow image\n",
    "image2 = Image.fromarray(data)\n",
    "#image2 = PIL.ImageOps.invert(image2)\n",
    "print(type(image2))\n",
    "\n",
    "# summarize image details\n",
    "print(image2.mode)\n",
    "print(image2.size)"
   ]
  },
  {
   "cell_type": "code",
   "execution_count": 213,
   "metadata": {},
   "outputs": [
    {
     "data": {
      "text/plain": [
       "2003"
      ]
     },
     "execution_count": 213,
     "metadata": {},
     "output_type": "execute_result"
    }
   ],
   "source": [
    "np.count_nonzero(data != 0)"
   ]
  },
  {
   "cell_type": "code",
   "execution_count": 214,
   "metadata": {},
   "outputs": [
    {
     "data": {
      "text/plain": [
       "array([  0, 255])"
      ]
     },
     "execution_count": 214,
     "metadata": {},
     "output_type": "execute_result"
    }
   ],
   "source": [
    "np.unique(data)"
   ]
  },
  {
   "cell_type": "code",
   "execution_count": 215,
   "metadata": {},
   "outputs": [
    {
     "name": "stdout",
     "output_type": "stream",
     "text": [
      "[[0 0 0 ... 0 0 0]\n",
      " [0 0 0 ... 0 0 0]\n",
      " [0 0 0 ... 0 0 0]\n",
      " ...\n",
      " [0 0 0 ... 0 0 0]\n",
      " [0 0 0 ... 0 0 0]\n",
      " [0 0 0 ... 0 0 0]]\n"
     ]
    }
   ],
   "source": [
    "print(data) #"
   ]
  },
  {
   "cell_type": "code",
   "execution_count": 216,
   "metadata": {},
   "outputs": [
    {
     "data": {
      "image/png": "[encoded data removed]",
      "text/plain": [
       "<PIL.Image.Image image mode=I size=736x570 at 0x1BB934D82E8>"
      ]
     },
     "execution_count": 216,
     "metadata": {},
     "output_type": "execute_result"
    }
   ],
   "source": [
    "image2"
   ]
  },
  {
   "cell_type": "code",
   "execution_count": 217,
   "metadata": {},
   "outputs": [
    {
     "name": "stdout",
     "output_type": "stream",
     "text": [
      "Longitud de props 24\n"
     ]
    }
   ],
   "source": [
    "fondo = np.zeros_like(data)\n",
    "defectos = label(data)\n",
    "props = regionprops(defectos)\n",
    "print('Longitud de props', len(props))"
   ]
  },
  {
   "cell_type": "code",
   "execution_count": 218,
   "metadata": {},
   "outputs": [
    {
     "data": {
      "text/plain": [
       "2003"
      ]
     },
     "execution_count": 218,
     "metadata": {},
     "output_type": "execute_result"
    }
   ],
   "source": [
    "np.count_nonzero(defectos != 0)"
   ]
  },
  {
   "cell_type": "code",
   "execution_count": 219,
   "metadata": {},
   "outputs": [
    {
     "name": "stdout",
     "output_type": "stream",
     "text": [
      "419520\n"
     ]
    }
   ],
   "source": [
    "print(defectos.size)"
   ]
  },
  {
   "cell_type": "code",
   "execution_count": 220,
   "metadata": {},
   "outputs": [
    {
     "name": "stdout",
     "output_type": "stream",
     "text": [
      "Hay 20 defectos de mas de  10\n"
     ]
    }
   ],
   "source": [
    "contador = 0\n",
    "tama = 10\n",
    "for prop in props:\n",
    "    if prop.area >= tama:\n",
    "        contador +=1\n",
    "print('Hay',contador,'defectos de mas de ', tama)"
   ]
  },
  {
   "cell_type": "code",
   "execution_count": 221,
   "metadata": {},
   "outputs": [],
   "source": [
    "nombreImagen = nombre[-16:-6]\n",
    "\n",
    "for i in range(len(props)):\n",
    "    fondo = np.zeros_like(data)\n",
    "    defectos = label(data)\n",
    "    props = regionprops(defectos)\n",
    "    for j in range(len(props)):\n",
    "        if(j != i):\n",
    "            for x,y in (props[j].coords):\n",
    "                defectos[x,y]=0\n",
    "\n",
    "    propAparte = Image.fromarray(defectos.astype(bool))\n",
    "    propAparte.save('./IMG/Máscaras individualesJ/'+nombreImagen+'_'+str(i)+'.png') "
   ]
  },
  {
   "cell_type": "code",
   "execution_count": null,
   "metadata": {},
   "outputs": [],
   "source": []
  }
 ],
 "metadata": {
  "kernelspec": {
   "display_name": "xrayenv",
   "language": "python",
   "name": "xrayenv"
  },
  "language_info": {
   "codemirror_mode": {
    "name": "ipython",
    "version": 3
   },
   "file_extension": ".py",
   "mimetype": "text/x-python",
   "name": "python",
   "nbconvert_exporter": "python",
   "pygments_lexer": "ipython3",
   "version": "3.7.1"
  }
 },
 "nbformat": 4,
 "nbformat_minor": 4
}
