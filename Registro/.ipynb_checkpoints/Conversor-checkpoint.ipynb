{
 "cells": [
  {
   "cell_type": "markdown",
   "metadata": {},
   "source": [
    "## Conversor de mascaras utilizando pycococreatortools.py"
   ]
  },
  {
   "cell_type": "code",
   "execution_count": 1,
   "metadata": {},
   "outputs": [],
   "source": [
    "import sys\n",
    "sys.path.append('./pycococreator-0.2.0/pycococreatortools')\n",
    "from pycococreatortools import binary_mask_to_polygon\n",
    "from PIL import Image\n",
    "import numpy as np\n",
    "from numpy import asarray"
   ]
  },
  {
   "cell_type": "code",
   "execution_count": 2,
   "metadata": {},
   "outputs": [
    {
     "name": "stdout",
     "output_type": "stream",
     "text": [
      "<class 'numpy.ndarray'>\n",
      "(572, 768)\n",
      "<class 'PIL.Image.Image'>\n",
      "L\n",
      "(768, 572)\n"
     ]
    }
   ],
   "source": [
    "\n",
    "# load the image\n",
    "image = Image.open('./IMG/C0001_0001_0.png')\n",
    "# convert image to numpy array\n",
    "data = asarray(image)\n",
    "print(type(data))\n",
    "# summarize shape\n",
    "print(data.shape)\n",
    "\n",
    "# create Pillow image\n",
    "image2 = Image.fromarray(data)\n",
    "print(type(image2))\n",
    "\n",
    "# summarize image details\n",
    "print(image2.mode)\n",
    "print(image2.size)"
   ]
  },
  {
   "cell_type": "code",
   "execution_count": 3,
   "metadata": {},
   "outputs": [
    {
     "name": "stdout",
     "output_type": "stream",
     "text": [
      "[[0 0 0 ... 0 0 0]\n",
      " [0 0 0 ... 0 0 0]\n",
      " [0 0 0 ... 0 0 0]\n",
      " ...\n",
      " [0 0 0 ... 0 0 0]\n",
      " [0 0 0 ... 0 0 0]\n",
      " [0 0 0 ... 0 0 0]]\n"
     ]
    }
   ],
   "source": [
    "print(data) # MATRIZ DE 0 marcada el area en 1's"
   ]
  },
  {
   "cell_type": "code",
   "execution_count": 4,
   "metadata": {},
   "outputs": [],
   "source": [
    "poligonos = binary_mask_to_polygon(data)"
   ]
  },
  {
   "cell_type": "code",
   "execution_count": 6,
   "metadata": {},
   "outputs": [
    {
     "name": "stdout",
     "output_type": "stream",
     "text": [
      "[[190.0, 492.5, 189.0, 492.5, 188.0, 492.5, 187.0, 492.5, 186.0, 492.5, 185.0, 492.5, 184.0, 492.5, 183.0, 492.5, 182.0, 492.5, 181.0, 492.5, 180.0, 492.5, 179.0, 492.5, 178.5, 492.0, 178.0, 491.5, 177.0, 491.5, 176.5, 491.0, 176.0, 490.5, 175.0, 490.5, 174.5, 490.0, 174.0, 489.5, 173.5, 489.0, 173.0, 488.5, 172.5, 488.0, 172.5, 487.0, 172.0, 486.5, 171.5, 486.0, 171.5, 485.0, 171.0, 484.5, 170.5, 484.0, 170.5, 483.0, 170.5, 482.0, 170.5, 481.0, 170.5, 480.0, 171.0, 479.5, 171.5, 479.0, 171.5, 478.0, 172.0, 477.5, 172.5, 477.0, 172.5, 476.0, 173.0, 475.5, 173.5, 475.0, 174.0, 474.5, 174.5, 474.0, 175.0, 473.5, 176.0, 473.5, 176.5, 473.0, 177.0, 472.5, 178.0, 472.5, 178.5, 472.0, 179.0, 471.5, 180.0, 471.5, 181.0, 471.5, 182.0, 471.5, 183.0, 471.5, 184.0, 471.5, 185.0, 471.5, 186.0, 471.5, 187.0, 471.5, 188.0, 471.5, 189.0, 471.5, 190.0, 471.5, 190.5, 472.0, 191.0, 472.5, 192.0, 472.5, 192.5, 473.0, 193.0, 473.5, 194.0, 473.5, 194.5, 474.0, 195.0, 474.5, 195.5, 475.0, 196.0, 475.5, 196.5, 476.0, 196.5, 477.0, 197.0, 477.5, 197.5, 478.0, 197.5, 479.0, 198.0, 479.5, 198.5, 480.0, 198.5, 481.0, 198.5, 482.0, 198.5, 483.0, 198.5, 484.0, 198.0, 484.5, 197.5, 485.0, 197.5, 486.0, 197.0, 486.5, 196.5, 487.0, 196.5, 488.0, 196.0, 488.5, 195.5, 489.0, 195.0, 489.5, 194.5, 490.0, 194.0, 490.5, 193.0, 490.5, 192.5, 491.0, 192.0, 491.5, 191.0, 491.5, 190.5, 492.0, 190.0, 492.5]]\n"
     ]
    }
   ],
   "source": [
    "print(poligonos)"
   ]
  },
  {
   "cell_type": "code",
   "execution_count": null,
   "metadata": {},
   "outputs": [],
   "source": []
  },
  {
   "cell_type": "code",
   "execution_count": null,
   "metadata": {},
   "outputs": [],
   "source": []
  },
  {
   "cell_type": "code",
   "execution_count": null,
   "metadata": {},
   "outputs": [],
   "source": []
  }
 ],
 "metadata": {
  "kernelspec": {
   "display_name": "xrayenv",
   "language": "python",
   "name": "xrayenv"
  },
  "language_info": {
   "codemirror_mode": {
    "name": "ipython",
    "version": 3
   },
   "file_extension": ".py",
   "mimetype": "text/x-python",
   "name": "python",
   "nbconvert_exporter": "python",
   "pygments_lexer": "ipython3",
   "version": "3.7.1"
  }
 },
 "nbformat": 4,
 "nbformat_minor": 4
}
